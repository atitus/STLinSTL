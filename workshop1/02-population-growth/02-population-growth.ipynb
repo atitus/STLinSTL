{
 "cells": [
  {
   "cell_type": "markdown",
   "metadata": {},
   "source": [
    "# Unconstrained Growth"
   ]
  },
  {
   "cell_type": "markdown",
   "metadata": {},
   "source": [
    "In this notebook, you will explore a mathematical model for systems that exhibit unconstrained growth."
   ]
  },
  {
   "cell_type": "markdown",
   "metadata": {},
   "source": [
    "# Population Growth"
   ]
  },
  {
   "cell_type": "markdown",
   "metadata": {},
   "source": [
    "In the **Malthusian model** of population growth, also called *unconstrained* population growth, the rate of change in a population in a time interval is proportional to the population. If the population is $P$, then the rate of change of the population in a time interval $\\Delta t$ is\n",
    "\n",
    "$$\\mathrm{rate\\ of\\ change}= \\dot{P} = rP$$\n",
    "\n",
    "where the **growth rate** $r$ has units of $1/{time}$. The growth rate $r$ is a large number for a fast growing population and small number for a slow growing population. It's a *constant* that depends on the system (or oganism) and environmental factors. The rate of change in the population is also proportional to the population. Thus, the greater the population, the faster it grows."
   ]
  },
  {
   "cell_type": "markdown",
   "metadata": {},
   "source": [
    "# Example"
   ]
  },
  {
   "cell_type": "markdown",
   "metadata": {},
   "source": [
    "Suppose that we start a clock when we have 100 cells of bacteria. This is called an *initial condition*, and we define this to be the starting time $t=0$.\n",
    "\n",
    "t (h) | P (cells)\n",
    "--- | ---\n",
    "0 | 100\n",
    "\n",
    "Suppose the bacteria grows with a growth rate $r=0.1\\ \\mathrm{h}^{-1}$ for 20 h. How many cells will there be after 20 h?"
   ]
  },
  {
   "cell_type": "markdown",
   "metadata": {},
   "source": [
    "First, import packages."
   ]
  },
  {
   "cell_type": "code",
   "execution_count": 1,
   "metadata": {},
   "outputs": [],
   "source": [
    "import numpy as np\n",
    "import matplotlib.pyplot as plt"
   ]
  },
  {
   "cell_type": "markdown",
   "metadata": {},
   "source": [
    "Run the model."
   ]
  },
  {
   "cell_type": "code",
   "execution_count": 3,
   "metadata": {},
   "outputs": [
    {
     "data": {
      "image/png": "[encoded data removed]",
      "text/plain": [
       "<Figure size 432x288 with 1 Axes>"
      ]
     },
     "metadata": {
      "needs_background": "light"
     },
     "output_type": "display_data"
    },
    {
     "name": "stdout",
     "output_type": "stream",
     "text": [
      "At t = 20.000 h, P = 738.536372 cells.\n"
     ]
    }
   ],
   "source": [
    "## define constants\n",
    "r = 0.1\n",
    "dt = 0.005\n",
    "\n",
    "# define variables and their initial values\n",
    "P = 100\n",
    "t = 0\n",
    "\n",
    "# create empty lists for storing data\n",
    "tdata = []\n",
    "Pdata = []\n",
    "\n",
    "# append initial values of t and P to our lists\n",
    "tdata.append(t)\n",
    "Pdata.append(P)\n",
    "\n",
    "# loop\n",
    "while t<20:\n",
    "    Pdot = r*P # our model\n",
    "    P = P + Pdot*dt # update equation\n",
    "    \n",
    "    t = t + dt\n",
    "    \n",
    "    tdata.append(t)\n",
    "    Pdata.append(P)\n",
    "\n",
    "# plot the calculated data\n",
    "plt.figure()\n",
    "plt.title('Population (cells) vs. time (h)')\n",
    "plt.xlabel('time (h)')\n",
    "plt.ylabel('population (cells)')\n",
    "plt.grid(which='both', axis='both')\n",
    "plt.plot(tdata,Pdata,'b-')\n",
    "plt.show()\n",
    "\n",
    "# print the final t and P\n",
    "print(\"At t = {:.3f} h, P = {:.6f} cells.\".format(t, P))"
   ]
  },
  {
   "cell_type": "markdown",
   "metadata": {},
   "source": [
    "We will refer to the code in the previous cell as the *computational model* and the equation \n",
    "\n",
    "$$\\mathrm{rate\\ of\\ change}= \\dot{P} = rP$$\n",
    "\n",
    "as the *mathematical model*."
   ]
  },
  {
   "cell_type": "markdown",
   "metadata": {},
   "source": [
    "## Exercise 1 - Investigate changing the total time"
   ]
  },
  {
   "cell_type": "markdown",
   "metadata": {},
   "source": [
    "According to our model, at $t=20.000$ h, there will be 738.54 cells. Of course, there can't be a partial cell; therefore, we can round and predict 739 cells.\n",
    "\n",
    "Copy the code block above (the *computational model*), paste into the cell below, and make changes. This will let you keep the original code above intact in case you need it again. Then use your program below to answer this question.\n",
    "\n",
    "Using the same initial population of 100 cells and growth rate of $r=0.1\\ \\mathrm{h}^{-1}$, how many cells will there be at $t=40$ h? How does this compare to $t=20$ h? Is it twice as many cells?"
   ]
  },
  {
   "cell_type": "code",
   "execution_count": null,
   "metadata": {
    "nbgrader": {
     "grade": true,
     "grade_id": "Ex_4_ans",
     "locked": false,
     "points": 1,
     "schema_version": 3,
     "solution": true,
     "task": false
    }
   },
   "outputs": [],
   "source": []
  },
  {
   "cell_type": "markdown",
   "metadata": {},
   "source": [
    "## Exercise 2 - Investigate changing the growth rate $r$"
   ]
  },
  {
   "cell_type": "markdown",
   "metadata": {},
   "source": [
    "For the previous question, what if the growth rate is twice as much, $r=0.2\\ \\mathrm{h}^{-1}$? Then how many cells will there be at $t=20$ h? How does this compare to the number of cells for a growth rate of $r=0.2\\ \\mathrm{h}^{-1}$? Is it twice as many cells?\n"
   ]
  },
  {
   "cell_type": "code",
   "execution_count": null,
   "metadata": {},
   "outputs": [],
   "source": []
  },
  {
   "cell_type": "markdown",
   "metadata": {},
   "source": [
    "## Exercise 3 - Investigate changing the time step $\\Delta t$"
   ]
  },
  {
   "cell_type": "markdown",
   "metadata": {},
   "source": [
    "What if we had used a time step of $\\Delta t=1$ h in our computational model? Copy and paste your program into the cell below, and change the variable `dt` to 1 hour. What does the model predict now? Which of our predictions is better and why?"
   ]
  },
  {
   "cell_type": "code",
   "execution_count": null,
   "metadata": {},
   "outputs": [],
   "source": []
  },
  {
   "cell_type": "code",
   "execution_count": null,
   "metadata": {},
   "outputs": [],
   "source": []
  }
 ],
 "metadata": {
  "celltoolbar": "Create Assignment",
  "kernelspec": {
   "display_name": "Python 3",
   "language": "python",
   "name": "python3"
  },
  "language_info": {
   "codemirror_mode": {
    "name": "ipython",
    "version": 3
   },
   "file_extension": ".py",
   "mimetype": "text/x-python",
   "name": "python",
   "nbconvert_exporter": "python",
   "pygments_lexer": "ipython3",
   "version": "3.8.3"
  }
 },
 "nbformat": 4,
 "nbformat_minor": 4
}
