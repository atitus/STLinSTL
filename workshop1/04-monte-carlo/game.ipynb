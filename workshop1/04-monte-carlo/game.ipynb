{
 "cells": [
  {
   "cell_type": "markdown",
   "metadata": {},
   "source": [
    "# Modeling a Game\n",
    "\n",
    "You are creating a fundraiser for your favorite school club. You will create a dart board that is a square of length 45 cm.\n",
    "\n",
    "![](https://github.com/atitus/math-modeling/raw/master/unit-04/04-02-game/dartboard.png)\n",
    "\n",
    "Inside the square, there are three circles. The purple circle has a diameter 45 cm (radius 22.5 cm). The blue circle has a diameter 27 cm (radius 13.5 cm). The red circle has a diameter 9 cm (radius 4.5 cm).\n",
    "\n",
    "# Rules of the Game\n",
    "\n",
    "A dart inside the red circle wins $\\$10$.\n",
    "A dart inside the blue circle (but not in the red circle) wins $\\$5$.\n",
    "A dart inside the purple circle (but not in the red nor blue circles) wins $\\$1$.\n",
    "\n",
    "For the fundraiser, you will sell \"throws\" for a certain price $P$. What should be the minimum price of a throw so that you will not lose money on your fundraiser? To answer this question with a Monte Carlo simulation, you should answer these questions:\n",
    "\n",
    "1. What assumptions will you make for your model?\n",
    "2. What will you randomize?\n",
    "3. How will you know what circle a dart lands within?\n",
    "\n",
    "Below is a working program for this game."
   ]
  },
  {
   "cell_type": "code",
   "execution_count": 1,
   "metadata": {},
   "outputs": [],
   "source": [
    "import random as rand #for random numbers\n",
    "import numpy as np\n",
    "import matplotlib.pyplot as plt"
   ]
  },
  {
   "cell_type": "code",
   "execution_count": null,
   "metadata": {},
   "outputs": [],
   "source": [
    "L = 45\n",
    "Rpurple = 45/2\n",
    "Rblue = 27/2\n",
    "Rred = 9/2\n",
    "\n",
    "Mpurple = 1\n",
    "Mblue = 5\n",
    "Mred = 10\n",
    "P = 2.07\n",
    "Ntosses = 10000\n",
    "\n",
    "Npurple = 0\n",
    "Nblue = 0\n",
    "Nred = 0\n",
    "\n",
    "xmodel = []\n",
    "ymodel = []\n",
    "\n",
    "for i in range(1,Ntosses+1):\n",
    "    \n",
    "    x = rand.uniform(-L/2,L/2)\n",
    "    y = rand.uniform(-L/2,L/2)\n",
    "    xmodel.append(x)\n",
    "    ymodel.append(y)\n",
    "    \n",
    "    r = np.sqrt(x**2+y**2)\n",
    "    if r<Rpurple and r>Rblue:\n",
    "        Npurple = Npurple + 1\n",
    "    elif r<Rblue and r>Rred:\n",
    "        Nblue = Nblue + 1\n",
    "    elif r<Rred:\n",
    "        Nred = Nred + 1\n",
    "\n",
    "gross = P*Ntosses\n",
    "loss = Mpurple*Npurple + Mblue*Nblue + Mred*Nred\n",
    "\n",
    "        \n",
    "print(\"Percent in red = {:.2f}%\".format(Nred/Ntosses*100))\n",
    "print(\"Percent in blue = {:.2f}%\".format(Nblue/Ntosses*100))\n",
    "print(\"Percent in purple = {:.2f}%\".format(Npurple/Ntosses*100))\n",
    "print(\"Percent not in a circle = {:.2f}%\".format((Ntosses-Npurple-Nblue-Nred)/Ntosses*100))\n",
    "print(\"Gross = ${:.2f}\".format(gross))\n",
    "print(\"Loss = ${:.2f}\".format(loss))\n",
    "print(\"Profit = ${:.2f} = {:.2f}% of gross\".format(gross-loss, (gross-loss)/gross*100))\n",
    "\n",
    "\n",
    "#red circle\n",
    "theta = np.linspace(0,2*np.pi,100)\n",
    "xred = Rred*np.cos(theta)\n",
    "yred = Rred*np.sin(theta)\n",
    "#blue circle\n",
    "xblue = Rblue*np.cos(theta)\n",
    "yblue = Rblue*np.sin(theta)\n",
    "#purple circle\n",
    "xpurple = Rpurple*np.cos(theta)\n",
    "ypurple = Rpurple*np.sin(theta)\n",
    "\n",
    "#graph\n",
    "plt.figure(figsize=(10,10))\n",
    "plt.title(\"Dart Board Fundraiser\")\n",
    "plt.xlabel(\"x (cm)\")\n",
    "plt.ylabel(\"y (cm)\")\n",
    "plt.xlim(-L/2, L/2)\n",
    "plt.ylim(-L/2, L/2)\n",
    "plt.plot(xred, yred, 'r-')\n",
    "plt.plot(xblue, yblue, 'c-')\n",
    "plt.plot(xpurple, ypurple, 'm-')\n",
    "plt.plot(xmodel,ymodel, 'k.')\n",
    "plt.gca().set_aspect('equal', adjustable='box')\n",
    "plt.show()"
   ]
  },
  {
   "cell_type": "markdown",
   "metadata": {},
   "source": [
    "# Exercise 1: Extending your Game\n",
    "\n",
    "1. What analytical questions can you ask about this fundraiser and how would you go about answering them?\n",
    "\n",
    "2. How can you change your game?"
   ]
  },
  {
   "cell_type": "code",
   "execution_count": null,
   "metadata": {},
   "outputs": [],
   "source": []
  }
 ],
 "metadata": {
  "kernelspec": {
   "display_name": "Python 3",
   "language": "python",
   "name": "python3"
  },
  "language_info": {
   "codemirror_mode": {
    "name": "ipython",
    "version": 3
   },
   "file_extension": ".py",
   "mimetype": "text/x-python",
   "name": "python",
   "nbconvert_exporter": "python",
   "pygments_lexer": "ipython3",
   "version": "3.8.3"
  }
 },
 "nbformat": 4,
 "nbformat_minor": 4
}
