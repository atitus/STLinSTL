{
 "cells": [
  {
   "cell_type": "markdown",
   "metadata": {},
   "source": [
    "# Workshop: Integrating Computational Modeling into Applied Math & Science\n",
    "\n",
    "\n",
    "### Aaron Titus\n",
    "\n",
    "### STLinSTL at MICDS, June 3-4, 2021\n"
   ]
  },
  {
   "cell_type": "markdown",
   "metadata": {},
   "source": [
    "# Introduction to the Workshop"
   ]
  },
  {
   "cell_type": "markdown",
   "metadata": {},
   "source": [
    "## Description"
   ]
  },
  {
   "cell_type": "markdown",
   "metadata": {},
   "source": [
    "Modeling is a significant component of contemporary applied math and science. Computers allow students to model complex phenomena, explore relationships, and make predictions with no previous coding experience. Integrating computational modeling with the traditional algebraic (i.e. analytic) curriculum - of which we are already quite familiar - allows students to explore more complex and relevant problems without sacrificing the traditional learning objectives. In this hands-on workshop, you will use Python to explore system dynamics models in math and science, including the spread of infectious disease, financial forecasting, climate models, and others. No previous coding experience is required."
   ]
  },
  {
   "cell_type": "markdown",
   "metadata": {},
   "source": [
    "## Objectives\n",
    "\n",
    "We will integrate coding into our science and math courses. Therefore, our goal is not to teach general coding. But rather, our goals are to teach students, **within an authentic scientific and mathematical context**, to:\n",
    "\n",
    "1. Read a program and understand the purpose of different lines of code.\n",
    "2. Edit the program as needed for a particular goal.\n",
    "3. Copy, paste, and edit (reuse) old code for a new problem.\n",
    "\n",
    "## Coding Philosophy\n",
    "\n",
    "**Teach students the coding (syntax, functions, and algorithms) they need, when they need it, using minimal working programs that they can edit.**"
   ]
  },
  {
   "cell_type": "markdown",
   "metadata": {},
   "source": [
    "## Google Colab (based on Jupyter Notebook)\n",
    "\n",
    "We will use two types of cells:\n",
    "\n",
    "1. text (or markdown)\n",
    "2. code\n",
    "\n",
    "Double-click the cell to edit the cell.\n",
    "\n",
    "Use shift-enter to render the text or run the code in the cell. In Google Colab, you may also click the play button in the cell."
   ]
  },
  {
   "cell_type": "markdown",
   "metadata": {},
   "source": [
    "# Dynamics Model\n",
    "\n",
    "A **dynamic model** is a mathematical description of how a quantity changes in time based on a theory of what factors affect those changes. Often a model includes *approximations* (e.g. simplifications or constraints). Often a model is used to make predictions which are compared to experimental or observational measurements. When a model's predictions agree with measurements, it gives us confidence that we understand the theory the model is based on.\n",
    "\n",
    "**The most important idea in dynamic modeling is that any quantity $x$ in the future is the quantity now plus the change in the quantity.**\n",
    "\n",
    "$$x_{future} = x_{now} + \\Delta x$$\n",
    "\n",
    "The time interval (or time step) into the future is $\\Delta t$. In order to avoid using the same notation used in calculate, let's define the **rate of change** in the quantity to be\n",
    "\n",
    "$$\\dot{x} = \\frac{\\Delta x}{\\Delta t} \\quad \\mathrm{is\\ the\\ rate\\ of\\ change\\ in\\ x}$$\n",
    "\n",
    "which has the units of $x$ per unit time. Then we can calculate the future value of $x$ after a time step $\\Delta t$:\n",
    "\n",
    "$$x_{future} = x_{now} + \\dot{x}\\Delta t$$\n",
    "\n",
    "where $\\Delta t$ is the time step and $\\dot{x}$ is the rate of change in $x$. We will call this the **update** equation. In code, if we define the variables $x$, $xdot$ and $dt$, then we would write\n",
    "\n",
    "```\n",
    "x = x + xdot*dt\n",
    "```\n",
    "\n",
    "The `=` sign is the **assignment** operator. The computer evaluates the expression on the right and then assigns the variable `x` to the result. This replaces (or updates) the value of `x` to the new value `x + xdot*dt`."
   ]
  },
  {
   "cell_type": "markdown",
   "metadata": {},
   "source": [
    "# Example - One Dimensional Motion\n",
    "\n",
    "In a [Pivot experiment](https://www.pivotinteractives.com/), three billiard balls roll to the right on a level track at a constant speed. \n",
    "\n",
    "![](https://github.com/atitus/STLinSTL/raw/main/workshop1/01-introduction/pivot-balls-on-track.png)"
   ]
  },
  {
   "cell_type": "markdown",
   "metadata": {},
   "source": [
    "## The Problem\n",
    "\n",
    "At $t=0$, the x-position of the red ball is 11 cm. Its x-position changes at a constant rate of 47.2 cm/s. At what time will it cross the finish line at $x=95.5$ cm?\n",
    "\n",
    "While this problem can be solved algebraically, the point here is to *model* the system.\n"
   ]
  },
  {
   "cell_type": "markdown",
   "metadata": {},
   "source": [
    "## Define the Model\n",
    "\n",
    "The *model* is our theory for how $x$ changes in time. In this case, the rate of change in x is constant,\n",
    "\n",
    "$$\\dot{x} = 47.2$$\n",
    "\n",
    "with units in cm/s."
   ]
  },
  {
   "cell_type": "markdown",
   "metadata": {},
   "source": [
    "## Define the Initial Conditions and Time Step\n",
    "\n",
    "At $t=0$, $x=11$ cm. Our time step is in units of seconds. In general, choose a time step small in comparison to the total time the system will evolve. Even if the ball were to travel 2 m, the total time would be less than 10 s. So, let's choose a time step of about 1/1000 of 10 s, or 0.01 s. In code, this would be:\n",
    "\n",
    "```\n",
    "t = 0 # time in seconds\n",
    "x = 11 # x-position in cm\n",
    "dt = 0.01 # time step in seconds\n",
    "```"
   ]
  },
  {
   "cell_type": "markdown",
   "metadata": {},
   "source": [
    "## Import Packages\n",
    "\n",
    "Import packages we will use for graphing and mathematical functions and arrays."
   ]
  },
  {
   "cell_type": "code",
   "execution_count": 2,
   "metadata": {},
   "outputs": [],
   "source": [
    "import numpy as np\n",
    "import matplotlib.pyplot as plt"
   ]
  },
  {
   "cell_type": "markdown",
   "metadata": {},
   "source": [
    "Run the model."
   ]
  },
  {
   "cell_type": "code",
   "execution_count": 8,
   "metadata": {},
   "outputs": [
    {
     "data": {
      "image/png": "[encoded data removed]",
      "text/plain": [
       "<Figure size 576x432 with 1 Axes>"
      ]
     },
     "metadata": {
      "needs_background": "light"
     },
     "output_type": "display_data"
    },
    {
     "name": "stdout",
     "output_type": "stream",
     "text": [
      "At t = 2.000 s, x = 105.400000 cm.\n"
     ]
    }
   ],
   "source": [
    "# define variables and constants\n",
    "t = 0 # time in seconds\n",
    "x = 11 # x-position in cm\n",
    "dt = 0.01 # time step in seconds \n",
    "\n",
    "# create empty lists for storing data\n",
    "tdata = []\n",
    "xdata = []\n",
    "\n",
    "# append initial values of t and x to our lists\n",
    "tdata.append(t)\n",
    "xdata.append(x)\n",
    "\n",
    "# loop\n",
    "while t < 2:\n",
    "    xdot = 47.2\n",
    "    x = x + xdot*dt # update value of x\n",
    "\n",
    "    t = t + dt # update time\n",
    "    \n",
    "    tdata.append(t)\n",
    "    xdata.append(x)\n",
    "\n",
    "# plot the calculated data\n",
    "plt.figure(figsize=(8,6))\n",
    "plt.title('x position vs. time for a rolling billiard ball')\n",
    "plt.xlabel('time (s)')\n",
    "plt.ylabel('x (cm)')\n",
    "plt.grid(which='both', axis='both')\n",
    "plt.ylim(0,110)\n",
    "plt.plot(tdata,xdata,'r-')\n",
    "plt.show()\n",
    "\n",
    "# print the final t and x\n",
    "print(\"At t = {:.3f} s, x = {:.6f} cm.\".format(t, x))\n"
   ]
  },
  {
   "cell_type": "markdown",
   "metadata": {},
   "source": [
    "# Exercise 1\n",
    "\n",
    "By reading the graph, at approximately what time does the red ball reach the finish line at $x=95.5$ cm?"
   ]
  },
  {
   "cell_type": "markdown",
   "metadata": {},
   "source": [
    "# Exercise 2\n",
    "\n",
    "Suppose we do a similar experiment, but this time the track is slightly inclined downward. Our *model* for the red ball is \n",
    "\n",
    "$$\\dot{x} = 47.2 + 1.5t$$\n",
    "\n",
    "In this case, what does the graph look like and when (approximately) does the ball cross the finish line at $x=95.5$ cm? To answer this question, copy and paste your program into the cell below, and edit line 16 where `xdot` is calculated."
   ]
  },
  {
   "cell_type": "code",
   "execution_count": null,
   "metadata": {},
   "outputs": [],
   "source": []
  },
  {
   "cell_type": "markdown",
   "metadata": {},
   "source": [
    "# Exercise 3\n",
    "\n",
    "How would you edit the program so the loop runs while $x<95.5$ cm?\n",
    "\n",
    "Copy and paste your program into the cell below, and edit it so the loop runs while $x<95.5$ cm."
   ]
  },
  {
   "cell_type": "code",
   "execution_count": null,
   "metadata": {},
   "outputs": [],
   "source": []
  },
  {
   "cell_type": "markdown",
   "metadata": {},
   "source": [
    "# Exercise 4\n",
    "\n",
    "At $t=0$, the white ball is at $x=32$ cm. Its x-position changes at a rate\n",
    "\n",
    "$$\\dot{x} = 31.5$$\n",
    "\n",
    "in units of cm/s. Which ball reaches the finish line first, the white ball or the red ball? To answer this question, read, edit, and run the program below.\n",
    "\n",
    "## Adding and plotting another variable\n",
    "\n",
    "If we want to also calculate and graph the white ball's position, then we have to use a different variable for the white ball. Let's call its position `x2`. In the program below, there is a variable `x2` for the white ball, but we do not define the model or update its position inside the loop. Add the *two* lines necessary to calculate `x2dot` and update the position `x2` for the white ball.\n",
    "\n",
    "(Note: its value is already stored in a list and graphed. You only have to add two lines to calculate `x2dot` and update the value of `x2`. Labels are added to the `plot()` functions, and the `legend()` function is used to display a legend.)"
   ]
  },
  {
   "cell_type": "code",
   "execution_count": 11,
   "metadata": {},
   "outputs": [
    {
     "data": {
      "image/png": "[encoded data removed]",
      "text/plain": [
       "<Figure size 576x432 with 1 Axes>"
      ]
     },
     "metadata": {
      "needs_background": "light"
     },
     "output_type": "display_data"
    },
    {
     "name": "stdout",
     "output_type": "stream",
     "text": [
      "At t = 2.000 s, x = 105.400000 cm.\n"
     ]
    }
   ],
   "source": [
    "# define variables and constants\n",
    "t = 0 # time in seconds\n",
    "x = 11 # x-position in cm\n",
    "x2 = 32 #x-position of the white ball\n",
    "dt = 0.01 # time step in seconds \n",
    "\n",
    "# create empty lists for storing data\n",
    "tdata = []\n",
    "xdata = []\n",
    "x2data = []\n",
    "\n",
    "# append initial values of t and x to our lists\n",
    "tdata.append(t)\n",
    "xdata.append(x)\n",
    "x2data.append(x2)\n",
    "\n",
    "# loop\n",
    "while t < 2:\n",
    "    xdot = 47.2\n",
    "    x = x + xdot*dt # update value of x\n",
    "\n",
    "    t = t + dt # update time\n",
    "    \n",
    "    tdata.append(t)\n",
    "    xdata.append(x)\n",
    "    x2data.append(x2)\n",
    "\n",
    "# plot the calculated data\n",
    "plt.figure(figsize=(8,6))\n",
    "plt.title('x position vs. time for a rolling billiard ball')\n",
    "plt.xlabel('time (s)')\n",
    "plt.ylabel('x (cm)')\n",
    "plt.grid(which='both', axis='both')\n",
    "plt.ylim(0,110)\n",
    "plt.plot(tdata,xdata,'r-', label='red ball')\n",
    "plt.plot(tdata,x2data,'k-', label='white ball')\n",
    "plt.legend()\n",
    "plt.show()\n",
    "\n",
    "# print the final t and x\n",
    "print(\"At t = {:.3f} s, x = {:.6f} cm.\".format(t, x))\n"
   ]
  },
  {
   "cell_type": "code",
   "execution_count": null,
   "metadata": {},
   "outputs": [],
   "source": []
  }
 ],
 "metadata": {
  "kernelspec": {
   "display_name": "Python 3",
   "language": "python",
   "name": "python3"
  },
  "language_info": {
   "codemirror_mode": {
    "name": "ipython",
    "version": 3
   },
   "file_extension": ".py",
   "mimetype": "text/x-python",
   "name": "python",
   "nbconvert_exporter": "python",
   "pygments_lexer": "ipython3",
   "version": "3.8.3"
  }
 },
 "nbformat": 4,
 "nbformat_minor": 4
}
