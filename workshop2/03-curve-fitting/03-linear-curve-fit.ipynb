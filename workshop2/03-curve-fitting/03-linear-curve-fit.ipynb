{
 "cells": [
  {
   "cell_type": "markdown",
   "metadata": {},
   "source": [
    "# Linear Curve Fit"
   ]
  },
  {
   "cell_type": "markdown",
   "metadata": {},
   "source": [
    "This notebook is a ready-to-run program to plot linear data and the best-fit line. Because Google Colab converts tabs to spaces, it is easiest for students to type comma-delimited data."
   ]
  },
  {
   "cell_type": "code",
   "execution_count": 1,
   "metadata": {},
   "outputs": [],
   "source": [
    "import numpy as np #used for arrays and numerical functions\n",
    "import pandas as pd #used for reading a data file\n",
    "import matplotlib.pyplot as plt #used for graphing\n",
    "from io import StringIO #used to convert string to a dataframe"
   ]
  },
  {
   "cell_type": "code",
   "execution_count": 7,
   "metadata": {},
   "outputs": [
    {
     "data": {
      "image/png": "[encoded data removed]",
      "text/plain": [
       "<Figure size 432x288 with 1 Axes>"
      ]
     },
     "metadata": {
      "needs_background": "light"
     },
     "output_type": "display_data"
    },
    {
     "name": "stdout",
     "output_type": "stream",
     "text": [
      "Slope = 0.5241570930454904\n",
      "Intercept = -0.0009330971570834903\n"
     ]
    }
   ],
   "source": [
    "\n",
    "#\n",
    "# Type the data you wish to graph in comma-delimited rows in the format:\n",
    "#\n",
    "#       xdata,ydata\n",
    "#\n",
    "#\n",
    "\n",
    "# define data; the first row contains the column headings\n",
    "data = StringIO(\"\"\"x,y\n",
    "0.334,0.171\n",
    "0.667,0.346\n",
    "1.001,0.527\n",
    "1.335,0.698\n",
    "1.668,0.872\n",
    "2.002,1.05\n",
    "2.336,1.232\n",
    "2.669,1.403\n",
    "3.003,1.57\n",
    "3.337,1.741\n",
    "\"\"\") \n",
    "\n",
    "# convert data to dataframe\n",
    "df = pd.read_csv(data, sep =\",\")\n",
    "\n",
    "# define arrays for the data\n",
    "xdata = df['x']\n",
    "ydata = df['y']\n",
    "\n",
    "# find the best-fit parameters and calculate a set of points for plotting the best-fit curve\n",
    "m,b = np.polyfit(xdata,ydata,1) #1st degree polynomial fit\n",
    "xfit = np.linspace(0,3.5,100) # dependent variable used for drawing a best-fit line\n",
    "yfit = m*xfit + b # independent variable used for drawing a best-fit line\n",
    "\n",
    "# plot data and the best-fit line on the same graph\n",
    "fig = plt.figure()\n",
    "plt.title(\"y vs. x\")\n",
    "plt.xlabel('x')\n",
    "plt.ylabel('y')\n",
    "plt.grid(which='both', axis='both')\n",
    "plt.plot(xdata, ydata, 'bo')\n",
    "plt.plot(xfit, yfit, 'r-')\n",
    "plt.show()\n",
    "\n",
    "# print the best-fit parameters\n",
    "\n",
    "print(\"Slope = {}\".format(m))\n",
    "print(\"Intercept = {}\".format(b))"
   ]
  },
  {
   "cell_type": "markdown",
   "metadata": {},
   "source": [
    "# Exercise 1\n",
    "\n",
    "1. The example above happens to be data for the x-position as a function of time for a ball rolling on a level surface. Change the title and axis labels to properly describe the data.\n",
    "2. What will be the x-position of the car at $t=4.0$ s? Use the graph to obtain an approximate answer. Then, write Python code using the variables for the slope and intercept to calculate a more precise answer. Use the code cell below for your calculation."
   ]
  },
  {
   "cell_type": "code",
   "execution_count": null,
   "metadata": {},
   "outputs": [],
   "source": []
  },
  {
   "cell_type": "markdown",
   "metadata": {},
   "source": [
    "# Exercise 2\n",
    "\n",
    "Chemists use Beer's Law to measure concentration of a solution based on its absorbance of light. ([This brief tutorial](http://www.chem.ucla.edu/~harding/IGOC/B/beers_law.html) includes photos as a demonstration of the principle.)  In an experiment in a High Point University general chemistry course, students mixed different concentrations of grape Kool-Aid and measured the absorbance of light by the Kool-Aid. (Data provided by Pam Knippenburg of High Point University.)\n",
    "\n",
    "Plot absorbance vs. concentration, do a linear curve fit, and find the slope and intercept.\n",
    "\n",
    "concentration (g/L)\t| absorbance (arb)\n",
    "--- | ---\n",
    "0.2077 | 0.079\n",
    "0.4154 | 0.164\n",
    "1.0385 | 0.418\n",
    "2.077 | 0.827\n",
    "4.154 | 1.403\n",
    "\n",
    "Use your curve fit to predict the absorbance at a concentration of 5 g/L."
   ]
  },
  {
   "cell_type": "code",
   "execution_count": null,
   "metadata": {},
   "outputs": [],
   "source": []
  }
 ],
 "metadata": {
  "kernelspec": {
   "display_name": "Python 3",
   "language": "python",
   "name": "python3"
  },
  "language_info": {
   "codemirror_mode": {
    "name": "ipython",
    "version": 3
   },
   "file_extension": ".py",
   "mimetype": "text/x-python",
   "name": "python",
   "nbconvert_exporter": "python",
   "pygments_lexer": "ipython3",
   "version": "3.8.3"
  }
 },
 "nbformat": 4,
 "nbformat_minor": 2
}
