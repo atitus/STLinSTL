{
 "cells": [
  {
   "cell_type": "markdown",
   "metadata": {},
   "source": [
    "# Workshop: Data-driven modeling in applied math and science"
   ]
  },
  {
   "cell_type": "markdown",
   "metadata": {},
   "source": [
    "### Aaron Titus"
   ]
  },
  {
   "cell_type": "markdown",
   "metadata": {},
   "source": [
    "### STLinSTL at MICDS, June 3-4, 2021."
   ]
  },
  {
   "cell_type": "markdown",
   "metadata": {},
   "source": [
    "# Introduction to the Workshop"
   ]
  },
  {
   "cell_type": "markdown",
   "metadata": {},
   "source": [
    "## Description"
   ]
  },
  {
   "cell_type": "markdown",
   "metadata": {},
   "source": [
    "We have moved from the information age into the data analytics age. Data-driven modeling (or empirical modeling) is describing a system through curve fitting and general data  analysis. There may or may not be a theoretical description of the system, and the model is based solely on measurement and observation. Curve-fitting gives a mathematical description (i.e. \"the model\") and can be used to make predictions. In this hands-on workshop, you will use Python to fit curves to experimental or observational data in a breadth of applications including allometry (e.g. growth of organisms) and model rockets, for example. With no previous coding required, this can be a gentle introduction to coding and its application in data science. Although a spreadsheet is useful for quite linear trendlines and a few other functions, it does not scale to general data-driven modeling."
   ]
  },
  {
   "cell_type": "markdown",
   "metadata": {},
   "source": [
    "## Objectives\n",
    "\n",
    "We will integrate coding into our science and math courses. Therefore, our goal is not to teach general coding. But rather, our goals are to teach students, **within an authentic scientific and mathematical context**, to:\n",
    "\n",
    "1. Read a program and understand the purpose of different lines of code.\n",
    "2. Edit the program as needed for a particular goal.\n",
    "3. Copy, paste, and edit (reuse) old code for a new problem.\n",
    "\n",
    "## Coding Philosophy\n",
    "\n",
    "**Teach students the coding (syntax, functions, and algorithms) they need, when they need it, using minimal working programs that they can edit.**"
   ]
  },
  {
   "cell_type": "markdown",
   "metadata": {},
   "source": [
    "## Google Colab (based on Jupyter Notebook)\n",
    "\n",
    "We will use two types of cells:\n",
    "\n",
    "1. text (or markdown)\n",
    "2. code\n",
    "\n",
    "Double-click the cell to edit the cell.\n",
    "\n",
    "Use shift-enter to render the text or run the code in the cell. In Google Colab, you may also click the play button in the cell."
   ]
  },
  {
   "cell_type": "code",
   "execution_count": null,
   "metadata": {},
   "outputs": [],
   "source": [
    "# Example - Vostok Ice Core\n",
    "\n"
   ]
  },
  {
   "cell_type": "markdown",
   "metadata": {},
   "source": [
    "# Example - Plotting a Function"
   ]
  },
  {
   "cell_type": "markdown",
   "metadata": {},
   "source": [
    "Often we will import packages (or libraries) which extend the functionality of Python for scientific and mathematical applications. Run the program below to import numpy and matplotlib for math and plotting, respectively. We give them aliases like `np` and `plt` that are required when calling their functions."
   ]
  },
  {
   "cell_type": "code",
   "execution_count": 1,
   "metadata": {},
   "outputs": [],
   "source": [
    "import numpy as np\n",
    "import matplotlib.pyplot as plt"
   ]
  },
  {
   "cell_type": "markdown",
   "metadata": {},
   "source": [
    "Run the program below to plot a linear function. Note the use of `np` and `plt` to call numpy and matplotlib functions, respectively. The comments help you understand the purpose of each line of code."
   ]
  },
  {
   "cell_type": "code",
   "execution_count": 2,
   "metadata": {},
   "outputs": [
    {
     "data": {
      "image/png": "[encoded data removed]",
      "text/plain": [
       "<Figure size 432x288 with 1 Axes>"
      ]
     },
     "metadata": {
      "needs_background": "light"
     },
     "output_type": "display_data"
    }
   ],
   "source": [
    "# create the data arrays\n",
    "xdata = np.linspace(0,100,10) # this creates 10 points for the independent variable between 0 and 100, including both 0 and 100\n",
    "m = 2 # slope\n",
    "b = 100 # y intercept\n",
    "ydata = m*xdata + b # calculate the dependent variable\n",
    "\n",
    "# plot the data arrays\n",
    "fig = plt.figure()\n",
    "plt.title('Linear')\n",
    "plt.xlabel('x')\n",
    "plt.ylabel('y')\n",
    "plt.grid(which='both', axis='both')\n",
    "plt.plot(xdata,ydata,'b-')\n",
    "plt.show()"
   ]
  },
  {
   "cell_type": "markdown",
   "metadata": {},
   "source": [
    "## Exercise 1\n",
    "\n",
    "Suppose that students are plotting a function\n",
    "\n",
    "$$x(t) = (-0.8\\ \\mathrm{m/s})\\ t + 5\\ \\mathrm{m}$$\n",
    "\n",
    "from $t=0$ to $t=3.0$ s where $x$ is the x-position of a toy car and $t$ is time. \n",
    "\n",
    "Copy the code above and paste it below. Change the slope, intercept, range (for time), title, and axis labels for this function and graph."
   ]
  },
  {
   "cell_type": "code",
   "execution_count": null,
   "metadata": {},
   "outputs": [],
   "source": []
  },
  {
   "cell_type": "markdown",
   "metadata": {},
   "source": [
    "## Exercise 2\n",
    "\n",
    "The strength of an electric force of one charged sphere on another charged sphere is given by:\n",
    "\n",
    "$$F=\\frac{A}{r^2}$$\n",
    "\n",
    "where $A$ is a constant that depends on the charges of the particles and $r$ is the distance between the particles. Suppose the force in one particular experiment is $F=(1\\times 10^{-4}\\ \\mathrm{N\\ m^2})/r^2$. Plot this function from $r=0.01$ to $r=0.04$ m.\n",
    "\n",
    "Note: to type a number in scientific notation, use `e` notation, like `1e-4` for example. And to raise a variable to a power use `**` such as `r**2` to calculate r squared, for example."
   ]
  },
  {
   "cell_type": "code",
   "execution_count": null,
   "metadata": {},
   "outputs": [],
   "source": []
  },
  {
   "cell_type": "markdown",
   "metadata": {},
   "source": [
    "# Special Functions\n",
    "\n",
    "Sometimes you need mathematical functions like square root, the exponential function, and trig. functions for example. Numpy provides these functions. Make sure you preceed the function with the alias `np`."
   ]
  },
  {
   "cell_type": "markdown",
   "metadata": {},
   "source": [
    "## Square Root"
   ]
  },
  {
   "cell_type": "markdown",
   "metadata": {},
   "source": [
    "$$y(x) = a\\sqrt{x}$$\n",
    "\n",
    "In this case, we need to use numpy's `sqrt()` function. We must include the alias and write it as `np.sqrt()`."
   ]
  },
  {
   "cell_type": "code",
   "execution_count": 4,
   "metadata": {},
   "outputs": [
    {
     "data": {
      "image/png": "[encoded data removed]",
      "text/plain": [
       "<Figure size 432x288 with 1 Axes>"
      ]
     },
     "metadata": {
      "needs_background": "light"
     },
     "output_type": "display_data"
    }
   ],
   "source": [
    "# Create arrays\n",
    "xdata = np.linspace(0,100,100)\n",
    "a = 2\n",
    "ydata = a*np.sqrt(xdata)\n",
    "\n",
    "# Plot\n",
    "fig = plt.figure()\n",
    "plt.title('Square Root')\n",
    "plt.xlabel('x')\n",
    "plt.ylabel('y')\n",
    "plt.grid(which='both', axis='both')\n",
    "plt.plot(xdata,ydata,'b-')\n",
    "plt.show()"
   ]
  },
  {
   "cell_type": "markdown",
   "metadata": {},
   "source": [
    "## Exponential"
   ]
  },
  {
   "cell_type": "markdown",
   "metadata": {},
   "source": [
    "$$P(t) = P_0e^{rt}$$\n",
    "\n",
    "The constant $P_0$ is the value of $P$ at $t=0$, so it is called the *initial value*.\n",
    "\n",
    "There are two general types of exponential functions, depending on the sign of the constant $r$. \n",
    "\n",
    "- If $r$ is positive, then the function is called *exponential growth* because the dependent variable $P$ increases. \n",
    "- If $r$ is negative, then the function is called *exponential decay* because the dependent variable $P$ decreases and approaches zero.\n",
    "\n",
    "Use the numpy function `np.exp(x)` to compute the natural number $e$ raised to a power $x$, written mathematically as $e^{x}$."
   ]
  },
  {
   "cell_type": "code",
   "execution_count": 6,
   "metadata": {},
   "outputs": [
    {
     "data": {
      "image/png": "[encoded data removed]",
      "text/plain": [
       "<Figure size 432x288 with 1 Axes>"
      ]
     },
     "metadata": {
      "needs_background": "light"
     },
     "output_type": "display_data"
    }
   ],
   "source": [
    "# Create an array for P \n",
    "tdata = np.linspace(0,100,100)\n",
    "P_0 = 1\n",
    "r = 0.05\n",
    "Pdata = P_0*np.exp(r*tdata)\n",
    "\n",
    "# Plot the P array vs. the t array\n",
    "fig = plt.figure()\n",
    "plt.title('exponential growth')\n",
    "plt.xlabel('time (s)')\n",
    "plt.ylabel('population (P)')\n",
    "plt.grid(which='both', axis='both')\n",
    "plt.plot(tdata,Pdata,'b-')\n",
    "plt.show()"
   ]
  },
  {
   "cell_type": "markdown",
   "metadata": {},
   "source": [
    "## Sinusoidal"
   ]
  },
  {
   "cell_type": "markdown",
   "metadata": {},
   "source": [
    "$$x(t) = A\\cos(\\omega t + \\phi) + x_0$$\n",
    "\n",
    "Both sine and cosine functions are generally called *sinusoidal*. In physics, if this describes a quantity that varies as a function of time, the constants are defined as:\n",
    "\n",
    "1. $A$, amplitude\n",
    "2. $\\omega$, angular frequency\n",
    "3. $\\phi$, phase\n",
    "4. $A_0$, equilibrium"
   ]
  },
  {
   "cell_type": "code",
   "execution_count": 7,
   "metadata": {},
   "outputs": [
    {
     "data": {
      "image/png": "[encoded data removed]",
      "text/plain": [
       "<Figure size 432x288 with 1 Axes>"
      ]
     },
     "metadata": {
      "needs_background": "light"
     },
     "output_type": "display_data"
    }
   ],
   "source": [
    "# Create arrays\n",
    "tdata = np.linspace(0,100,100)\n",
    "A = 1\n",
    "omega = 2*np.pi/50\n",
    "phi = 0\n",
    "x_0 = 0\n",
    "xdata = A*np.cos(omega * tdata + phi) + x_0\n",
    "\n",
    "# Plot\n",
    "fig = plt.figure()\n",
    "plt.title('sinusoidal')\n",
    "plt.xlabel('time (s)')\n",
    "plt.ylabel('x (m)')\n",
    "plt.grid(which='both', axis='both')\n",
    "plt.plot(tdata,xdata,'b-')\n",
    "plt.show()"
   ]
  },
  {
   "cell_type": "code",
   "execution_count": null,
   "metadata": {},
   "outputs": [],
   "source": []
  }
 ],
 "metadata": {
  "celltoolbar": "Create Assignment",
  "kernelspec": {
   "display_name": "Python 3",
   "language": "python",
   "name": "python3"
  },
  "language_info": {
   "codemirror_mode": {
    "name": "ipython",
    "version": 3
   },
   "file_extension": ".py",
   "mimetype": "text/x-python",
   "name": "python",
   "nbconvert_exporter": "python",
   "pygments_lexer": "ipython3",
   "version": "3.8.3"
  }
 },
 "nbformat": 4,
 "nbformat_minor": 2
}
