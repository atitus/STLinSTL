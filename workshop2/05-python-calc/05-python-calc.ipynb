{
 "cells": [
  {
   "cell_type": "markdown",
   "metadata": {},
   "source": [
    "# Using Python as a Calculator"
   ]
  },
  {
   "cell_type": "markdown",
   "metadata": {},
   "source": [
    "These are the coding ideas (syntax and concepts) students need to learn over time, but not all at once. And they do not have to know every detail! \n",
    "\n",
    "**Teach students the coding they need, when they need it, using minimal working programs that they can edit.**\n",
    "\n",
    "1. variables\n",
    "2. mathematical operations\n",
    "3. loops\n",
    "4. reading measured data from a file\n",
    "5. creating arrays and/or storing values in arrays (i.e. \"calculated data\")\n",
    "6. plotting data\n",
    "7. conditional statements"
   ]
  },
  {
   "cell_type": "markdown",
   "metadata": {},
   "source": [
    "To start, let's use Python as a calculator. You can type a mathematical expression like `3+8` and type `shift-enter` to run it and output the result."
   ]
  },
  {
   "cell_type": "code",
   "execution_count": null,
   "metadata": {},
   "outputs": [],
   "source": [
    "3 + 8"
   ]
  },
  {
   "cell_type": "markdown",
   "metadata": {},
   "source": [
    "Here is $\\dfrac{10^3}{4}$. Continue using `shift-enter` on your keyboard to move through (and run or render) each cell."
   ]
  },
  {
   "cell_type": "code",
   "execution_count": null,
   "metadata": {},
   "outputs": [],
   "source": [
    "(10 ** 3) / 4"
   ]
  },
  {
   "cell_type": "markdown",
   "metadata": {},
   "source": [
    "The `**` symbol raises a number to a power.  For readability you can use spaces to separate the different terms in a mathematical expression, including the operators such as the power and division symbols.  Due to order of operation, the parentheses in the second expression are not necessary, but they can sometimes improve readability."
   ]
  },
  {
   "cell_type": "markdown",
   "metadata": {},
   "source": [
    "## Exercise - Order of Operation"
   ]
  },
  {
   "cell_type": "markdown",
   "metadata": {},
   "source": [
    "You're probably familiar with math questions like this that have [appeared on social media](https://knowyourmeme.com/memes/48293).\n",
    "\n",
    "What is 6 ÷ 2(1+2)?\n",
    "\n",
    "Predict the answer. Then, use the cell below and type Python code to evaluate the expression. Remember to use `shift-enter` to run the cell. \n",
    "\n",
    "Based on your familiarity with different interpretations of the correct order of operations, what are the two most common answers people give?"
   ]
  },
  {
   "cell_type": "code",
   "execution_count": null,
   "metadata": {},
   "outputs": [],
   "source": []
  },
  {
   "cell_type": "markdown",
   "metadata": {},
   "source": [
    "# Mathematical functions like trig functions, exponential function, etc."
   ]
  },
  {
   "cell_type": "markdown",
   "metadata": {},
   "source": [
    "We need to a python *package* (called a library in other languages) to provide mathematical functions. The most common ones are\n",
    "\n",
    "1. numpy (which stands for numerical python)\n",
    "2. math\n",
    "\n",
    "I prefer numpy because we can use it for both simple and advanced functionality."
   ]
  },
  {
   "cell_type": "markdown",
   "metadata": {},
   "source": [
    "## Numpy"
   ]
  },
  {
   "cell_type": "markdown",
   "metadata": {},
   "source": [
    "First, you have to import numpy. We will give it a short name `np` that will be required when we all numpy functions."
   ]
  },
  {
   "cell_type": "code",
   "execution_count": null,
   "metadata": {},
   "outputs": [],
   "source": [
    "import numpy as np"
   ]
  },
  {
   "cell_type": "markdown",
   "metadata": {},
   "source": [
    "Numpy has a number of functions that perform mathematical operations. Here are a few commonly used ones. [A more exhaustive list is available](https://docs.scipy.org/doc/numpy-1.13.0/reference/routines.math.html) in the numpy documentation."
   ]
  },
  {
   "cell_type": "code",
   "execution_count": null,
   "metadata": {},
   "outputs": [],
   "source": [
    "np.sqrt(2) #square root"
   ]
  },
  {
   "cell_type": "code",
   "execution_count": null,
   "metadata": {},
   "outputs": [],
   "source": [
    "np.pi #constant pi"
   ]
  },
  {
   "cell_type": "code",
   "execution_count": null,
   "metadata": {},
   "outputs": [],
   "source": [
    "np.exp(1) #exponential e^n where n is the power of e; Note that e is the natural number in this case"
   ]
  },
  {
   "cell_type": "code",
   "execution_count": null,
   "metadata": {},
   "outputs": [],
   "source": [
    "np.cos(np.pi/4) #trig function; it requires the angle to be in radians"
   ]
  },
  {
   "cell_type": "code",
   "execution_count": null,
   "metadata": {},
   "outputs": [],
   "source": [
    "np.cos(30*np.pi/180) #cos(30 degrees); note that the angle in degrees must be converted to radians"
   ]
  },
  {
   "cell_type": "code",
   "execution_count": null,
   "metadata": {},
   "outputs": [],
   "source": [
    "np.log(1) #natural log, usually written ln. In other words, log base e."
   ]
  },
  {
   "cell_type": "code",
   "execution_count": null,
   "metadata": {},
   "outputs": [],
   "source": [
    "np.log10(100) #log base 10"
   ]
  },
  {
   "cell_type": "code",
   "execution_count": null,
   "metadata": {},
   "outputs": [],
   "source": [
    "np.arctan(1) #arctangent returns the angle in radians between -pi and pi; this angle could be in quadrants 1 or 3"
   ]
  },
  {
   "cell_type": "code",
   "execution_count": null,
   "metadata": {},
   "outputs": [],
   "source": [
    "np.arctan(-1) #arctangent returns the angle in radians between -pi and pi; this angle could be in quadrants 2 or 4"
   ]
  },
  {
   "cell_type": "code",
   "execution_count": null,
   "metadata": {},
   "outputs": [],
   "source": [
    "# use arctan2(y,x) to get an angle between 0 and 2pi, in the correct quadrant.\n",
    "print(\"This angle is in quadrant 1: \", np.arctan2(1,1))\n",
    "print(\"This angle is in quadrant 2: \", np.arctan2(1,-1))\n",
    "print(\"This angle is in quadrant 3: \", np.arctan2(-1,-1))\n",
    "print(\"This angle is in quadrant 4: \", np.arctan2(-1,1))\n"
   ]
  },
  {
   "cell_type": "markdown",
   "metadata": {},
   "source": [
    "## Exercise - Using numpy functions"
   ]
  },
  {
   "cell_type": "markdown",
   "metadata": {},
   "source": [
    "What is $\\sin(30^\\circ)$?"
   ]
  },
  {
   "cell_type": "code",
   "execution_count": null,
   "metadata": {},
   "outputs": [],
   "source": []
  },
  {
   "cell_type": "markdown",
   "metadata": {},
   "source": [
    "A point on the unit circle is at the (x,y) coordinates $(0.814, 0.581)$. At what angle on the unit circle is it located? In what quadrant is this?"
   ]
  },
  {
   "cell_type": "code",
   "execution_count": null,
   "metadata": {},
   "outputs": [],
   "source": []
  },
  {
   "cell_type": "markdown",
   "metadata": {},
   "source": [
    "# Variables"
   ]
  },
  {
   "cell_type": "markdown",
   "metadata": {},
   "source": [
    "You can define variables using the equals (=) sign. Used in this way, it is called an *assignment* operator because you are assigning the value on the right to the variable on the left."
   ]
  },
  {
   "cell_type": "code",
   "execution_count": null,
   "metadata": {},
   "outputs": [],
   "source": [
    "width = 10\n",
    "length = 30\n",
    "area = length * width\n",
    "area"
   ]
  },
  {
   "cell_type": "markdown",
   "metadata": {},
   "source": [
    "Python (and other programming languages) interpret expressions like this from right to left: the value of the stuff on the right side of the `=` sign is given the variable name on the left.  So `width` and `length` get the values `10` and `30`, respectively, while `area` gets the value of `length * width`, or `30 * 10`. \n",
    "\n",
    "In Jupyter (or Google colab) you can print the value of a variable by typing the variable alone on the last line.\n",
    "\n",
    "If you try to access a variable you haven't yet defined, you get an error, like this:"
   ]
  },
  {
   "cell_type": "code",
   "execution_count": null,
   "metadata": {},
   "outputs": [],
   "source": [
    "volume"
   ]
  },
  {
   "cell_type": "markdown",
   "metadata": {},
   "source": [
    "You need to define `volume`. You can refer to variables defined in previous cells to calculate `volume`."
   ]
  },
  {
   "cell_type": "code",
   "execution_count": null,
   "metadata": {},
   "outputs": [],
   "source": [
    "depth = 10\n",
    "volume = area*depth\n",
    "volume"
   ]
  },
  {
   "cell_type": "markdown",
   "metadata": {},
   "source": [
    "In a quirk of programming languages, an expression like the following (which is nonsensical from a mathematical perspective) makes sense:"
   ]
  },
  {
   "cell_type": "code",
   "execution_count": null,
   "metadata": {},
   "outputs": [],
   "source": [
    "width = width + 1\n",
    "width"
   ]
  },
  {
   "cell_type": "markdown",
   "metadata": {},
   "source": [
    "Python takes the current value of the variable `width` on the right, adds `1` to it, and assigns the resulting value to the variable on the left, which just happens to be the same as the one on the right.  Thus, the original value of `width`, 10, is replaced by the new one, 11."
   ]
  },
  {
   "cell_type": "markdown",
   "metadata": {},
   "source": [
    "## Scientific notation"
   ]
  },
  {
   "cell_type": "markdown",
   "metadata": {},
   "source": [
    "Large and small numbers are usually written using scientific notation. For example, the speed of light is $3 \\times 10^{8}$ m/s. Just like a TI calculator, use E-notation to express a number in scientific notation. In Python, the lowercase `e` or uppercase `E` means \"times 10 to the\" or $\\times 10^{power}$. Thus, to define a variable for the speed of light in Python, you would type"
   ]
  },
  {
   "cell_type": "code",
   "execution_count": null,
   "metadata": {},
   "outputs": [],
   "source": [
    "c = 3e8\n",
    "c"
   ]
  },
  {
   "cell_type": "raw",
   "metadata": {},
   "source": [
    "Or, you can use uppercase, `E`."
   ]
  },
  {
   "cell_type": "code",
   "execution_count": null,
   "metadata": {},
   "outputs": [],
   "source": [
    "c = 3E8\n",
    "c"
   ]
  },
  {
   "cell_type": "markdown",
   "metadata": {},
   "source": [
    "## Exercise - Unit Conversion"
   ]
  },
  {
   "cell_type": "markdown",
   "metadata": {},
   "source": [
    "Earth can be modeled as a sphere with radius $6.4 \\times 10^6$ m. There are 1000 m in a km, and 1 mile is equivalent to 1.609 km. What is the circumference of Earth in miles?\n",
    "\n",
    "Write code to do the calculation. Assign a variable for the radius, using `e` notation for scientific notation. Assign a variable to your answer for the circumference in miles. For now, use 3.14 for $\\pi$."
   ]
  },
  {
   "cell_type": "code",
   "execution_count": null,
   "metadata": {
    "nbgrader": {
     "grade": true,
     "grade_id": "1A_ans",
     "locked": false,
     "points": 1,
     "schema_version": 3,
     "solution": true,
     "task": false
    }
   },
   "outputs": [],
   "source": []
  },
  {
   "cell_type": "markdown",
   "metadata": {},
   "source": [
    "## Exercise - Daily Math"
   ]
  },
  {
   "cell_type": "markdown",
   "metadata": {},
   "source": [
    "A Denver ski shop is selling ski boots 20% below its regular price of $310. A european visitor wants to compare the sale price to ski boots sold in the Alps, and at the moment, 1 euro is 1.11 US dollars. What is the price of the boots in euros?"
   ]
  },
  {
   "cell_type": "code",
   "execution_count": null,
   "metadata": {
    "nbgrader": {
     "grade": true,
     "grade_id": "1B_ans",
     "locked": false,
     "points": 1,
     "schema_version": 3,
     "solution": true,
     "task": false
    }
   },
   "outputs": [],
   "source": []
  },
  {
   "cell_type": "markdown",
   "metadata": {},
   "source": [
    "## Exercise - Algebraic Function"
   ]
  },
  {
   "cell_type": "markdown",
   "metadata": {},
   "source": [
    "The annual global surface temperature anomaly using land and sea data as a function of year is plotted below using data from [Berkeley Earth](http://berkeleyearth.lbl.gov/auto/Global/Land_and_Ocean_summary.txt). Temperature anomaly is the difference in the temperature measurement from a standard. In this case, the standard (reference) temperature is the Jan 1951-Dec 1980 average.\n",
    "\n",
    "<img src=\"https://github.com/atitus/STLinATL/raw/master/workshop1/02-python-calc/global-temp-anomaly.png\" width=600>\n",
    "\n",
    "The last part of this graph since around 1970 is approximately quadratic. The temperature data after 1960 can be approximated by the function\n",
    "\n",
    "$$T = \\left(2.0223\\times 10^{-4}\\ \\frac{^\\circ\\mathrm{C}}{y^2}\\right)t^2 - \\left(0.78878\\ \\frac{^\\circ\\mathrm{C}}{y}\\right)t + 769.06\\ ^\\circ\\mathrm{C}$$\n",
    "\n",
    "where $T$ is the global temperature anomaly in degrees Celsius, and $t$ is the year number.\n",
    "\n",
    "If this trend continues, what will be the temperature anomaly in 2050?\n",
    "\n",
    "Output your result as a variable `T`. Assign variable names for the year and the constants $\\left(2.0223\\times 10^{-4}\\ \\frac{^\\circ\\mathrm{C}}{y^2}\\right)$, $\\left(0.78878\\ \\frac{^\\circ\\mathrm{C}}{y}\\right)$, and $769.06\\ ^\\circ\\mathrm{C}$. Your calculation for `T` should be in terms of the defined variables."
   ]
  },
  {
   "cell_type": "code",
   "execution_count": null,
   "metadata": {
    "nbgrader": {
     "grade": true,
     "grade_id": "1C1_ans",
     "locked": false,
     "points": 1,
     "schema_version": 3,
     "solution": true,
     "task": false
    }
   },
   "outputs": [],
   "source": []
  },
  {
   "cell_type": "markdown",
   "metadata": {},
   "source": [
    "It is possible that when Earth's temperature anomoly rises above $3^\\circ\\mathrm{C}$, a runaway greenhouse effect could begin with no hope of returning to an earlier equilibrium condition. (Basically, there would be no viable mechanism for absorbing the excess atmospheric carbon dioxide, and Earth's average global surface temperature would continue to rise with no possibility of equilibrium.)\n",
    "\n",
    "By inputting different years in your calculation and looking at the result, what is the first year when the temperature anomaly will be greater than $3^\\circ\\mathrm{C}$? Once again, output your result as a variable `T`."
   ]
  },
  {
   "cell_type": "code",
   "execution_count": null,
   "metadata": {},
   "outputs": [],
   "source": []
  },
  {
   "cell_type": "markdown",
   "metadata": {
    "nbgrader": {
     "grade": true,
     "grade_id": "1C2_ans",
     "locked": false,
     "points": 1,
     "schema_version": 3,
     "solution": true,
     "task": false
    }
   },
   "source": [
    "# Printing"
   ]
  },
  {
   "cell_type": "markdown",
   "metadata": {},
   "source": [
    "The print function can print strings and variables. You can print multiple strings and variables by separating them with a comma."
   ]
  },
  {
   "cell_type": "code",
   "execution_count": null,
   "metadata": {},
   "outputs": [],
   "source": [
    "area=300\n",
    "print(\"The area is \", area)"
   ]
  },
  {
   "cell_type": "markdown",
   "metadata": {},
   "source": [
    "A formatted string uses `{}` as a placeholder in the string. Then it replaces each `{}` with the value of a variable that is specified with the `format` function. It's easier to understand if you look at a lot of examples. `f` is for a fixed format of a float and `e` is for exponential format (scientific notation)."
   ]
  },
  {
   "cell_type": "code",
   "execution_count": null,
   "metadata": {},
   "outputs": [],
   "source": [
    "pi = 3.1415926535\n",
    "print(\"Pi printed with no formatting = \", pi)\n",
    "print(\"Pi with 4 decimal places = {:.4f}\".format(pi))\n",
    "print(\"Pi in exponential format = {:e}\".format(pi))"
   ]
  },
  {
   "cell_type": "markdown",
   "metadata": {},
   "source": [
    "You can pass in multiple variables (if your formatted string supports it) by putting a group of variables separated by commas in the `format()` function. Thus,"
   ]
  },
  {
   "cell_type": "code",
   "execution_count": null,
   "metadata": {},
   "outputs": [],
   "source": [
    "a = 6.789\n",
    "b = 4.13\n",
    "c = -4.98e-2\n",
    "print(\"The variables are {:.2f}, {:.2f}, and {:.4e}.\".format(a,b,c))"
   ]
  },
  {
   "cell_type": "markdown",
   "metadata": {},
   "source": [
    "## Exercise - Printing"
   ]
  },
  {
   "cell_type": "markdown",
   "metadata": {},
   "source": [
    "Write code that first defines a variable for the golden ratio named `phi` with the value 1.61803398875 and then prints:\n",
    "\n",
    "1. phi with two digits after the decimal  \n",
    "- phi to the 5th power, written in scientific notation with four digits after the decimal\n"
   ]
  },
  {
   "cell_type": "code",
   "execution_count": null,
   "metadata": {
    "nbgrader": {
     "grade": true,
     "grade_id": "print-num",
     "locked": false,
     "points": 1,
     "schema_version": 3,
     "solution": true,
     "task": false
    }
   },
   "outputs": [],
   "source": []
  },
  {
   "cell_type": "markdown",
   "metadata": {},
   "source": [
    "# Complex Numbers"
   ]
  },
  {
   "cell_type": "markdown",
   "metadata": {},
   "source": [
    "You can define a variable as a complex number. In Python `j` is $\\sqrt{-1}$. You can always define a variable `i` if you wish."
   ]
  },
  {
   "cell_type": "code",
   "execution_count": null,
   "metadata": {},
   "outputs": [],
   "source": [
    "x = 3\n",
    "y = 2j\n",
    "z = x + y\n",
    "i=1j\n",
    "w = 4.2 - 2.4*i\n",
    "print(x, y, z, i, w)\n",
    "print(\"The real part of z is \",z.real)\n",
    "print(\"The imaginary part of z is \",z.imag)\n",
    "print(abs(z)**2)\n"
   ]
  },
  {
   "cell_type": "markdown",
   "metadata": {},
   "source": [
    "# Loops"
   ]
  },
  {
   "cell_type": "markdown",
   "metadata": {},
   "source": [
    "So far, we've learned how to use Python to assign a variable, do a calculation with variables, and print the results. In our code, we tell the computer what to do, one line at a time. The computer executes each line in succession. But what if we want the computer to repeat a calculation until you tell it to stop? That's what a loop is for.\n",
    "\n",
    "Read the following program, remembering that when a computer runs a program, it goes through it line by line:\n",
    "\n",
    "```python\n",
    "t = 0\n",
    "print(\"t =\", t)\n",
    "\n",
    "t = t + 2\n",
    "print(\"t =\", t)\n",
    "\n",
    "t = t + 2\n",
    "print(\"t =\", t)\n",
    "```"
   ]
  },
  {
   "cell_type": "markdown",
   "metadata": {},
   "source": [
    "What does t = t + 2 mean?\n",
    "\n",
    "The line `t = t + 2` doesn't mean anything mathematically (it's definitely not true!), but the computer understands it perfectly. It means: first calculate whatever is on the right side of the equal sign using the ***old*** value for `t`, then make that result be the ***new*** value of `t`. \n",
    "\n",
    "Every time we change `t`, that new value becomes the old value in the next calculation. \n",
    "\n",
    "If you run the program, what will be the final value of `t` that is printed?"
   ]
  },
  {
   "cell_type": "code",
   "execution_count": null,
   "metadata": {},
   "outputs": [],
   "source": [
    "t = 0\n",
    "print(\"t =\", t)\n",
    "\n",
    "t = t + 2\n",
    "print(\"t =\", t)\n",
    "\n",
    "t = t + 2\n",
    "print(\"t =\", t)"
   ]
  },
  {
   "cell_type": "markdown",
   "metadata": {},
   "source": [
    "Now, we will use a loop to repeat the calculation and count."
   ]
  },
  {
   "cell_type": "markdown",
   "metadata": {},
   "source": [
    "## A Visual Representation of a Loop"
   ]
  },
  {
   "cell_type": "markdown",
   "metadata": {},
   "source": [
    "In order to really understand how a computer processes variable names and works through a loop, you have to know how the computer stores things in its memory.\n",
    "\n",
    "Click on the link below in order to see exactly how the computer processes variables and loops:\n",
    "    \n",
    " [Explanation of Variables and Loops](http://tinyurl.com/VariablesAndLoops)"
   ]
  },
  {
   "cell_type": "markdown",
   "metadata": {},
   "source": [
    "## Anatomy of a while loop"
   ]
  },
  {
   "cell_type": "markdown",
   "metadata": {},
   "source": [
    "A loop has 4 parts. We'll list them, then look at an example and examine each part in more detail:\n",
    "\n",
    "1. Initialization of a variable\n",
    "* A test to see if some condition has been met\n",
    "* Calculations or other operations (like `print`) using the variable \n",
    "* A small addition (increment) to the variable\n",
    "\n",
    "\n",
    "Below is a program containing a loop that counts from 0 to 10 in steps of 2. \n",
    "\n",
    "```python\n",
    "t = 0\n",
    "while t < 11:\n",
    "  print(\"t=\", t)\n",
    "  t = t + 2\n",
    "\n",
    "print(\"The loop is finished\")\n",
    "```"
   ]
  },
  {
   "cell_type": "markdown",
   "metadata": {},
   "source": [
    "Let's examine what each part does.\n",
    "\n",
    "* The line `t = 0` initializes the variable `t`. Initializing a variable just means to create it and give it a value so it's ready for use in a later line of code.\n",
    "\n",
    "* The line `while t < 11:` tells the computer do keep running the lines of code in the loop until `t` is no longer less than `11`. Notice that a `:` is used at the end of this line, whatever is inside the loop is indented.\n",
    "\n",
    "* The line `print(\"t=\",t)` is inside the loop, and therefore gets repeated every time the computer runs through the loop.\n",
    "\n",
    "* The line `t = t + 2` is also inside the loop and also gets repeated. This line is important because it is changing `t`. We told the computer to only repeat the loop as long as `t < 11` was true. Eventually, by adding `2` every time, `t` will be greater than `11`, and the loop will end. \n",
    "\n",
    "* The line `print(\"The loop is finished\")` is not indented. Therefore, it is not inside the loop and will only be executed after the loop is finished and `t` is not less than 11.\n",
    "\n",
    "Run the program below"
   ]
  },
  {
   "cell_type": "code",
   "execution_count": null,
   "metadata": {},
   "outputs": [],
   "source": [
    "t = 0\n",
    "while t < 11:\n",
    "  print(\"t=\", t)\n",
    "  t = t + 2\n",
    "\n",
    "print(\"The loop is finished\")"
   ]
  },
  {
   "cell_type": "markdown",
   "metadata": {},
   "source": [
    "## Exercise - Modify a Loop"
   ]
  },
  {
   "cell_type": "markdown",
   "metadata": {},
   "source": [
    "The program below is identical to the previous example. Change the program so it counts from 4 to 16 in steps of 2. After the loop is finished, print the value of `t` again, after \"The loop is finished\" is printed. \n",
    "\n",
    "Are you surprised by the result? Do you need to change your program so the final value of t after the loop is finished is 16?"
   ]
  },
  {
   "cell_type": "code",
   "execution_count": null,
   "metadata": {
    "nbgrader": {
     "grade": true,
     "grade_id": "Loop3A_ans",
     "locked": false,
     "points": 1,
     "schema_version": 3,
     "solution": true,
     "task": false
    }
   },
   "outputs": [],
   "source": [
    "t = 0\n",
    "while t < 11:\n",
    "  print(\"t=\", t)\n",
    "  t = t + 2\n",
    "\n",
    "print(\"The loop is finished.\")"
   ]
  },
  {
   "cell_type": "markdown",
   "metadata": {},
   "source": [
    "The program below is the same starting program as before. Change the program to count backwards from 30 to -30 in steps of 5. Again, print the final value of `t` after the loop is finished to check that it is `-30`."
   ]
  },
  {
   "cell_type": "code",
   "execution_count": null,
   "metadata": {
    "nbgrader": {
     "grade": true,
     "grade_id": "Loop3B_ans",
     "locked": false,
     "points": 1,
     "schema_version": 3,
     "solution": true,
     "task": false
    }
   },
   "outputs": [],
   "source": [
    "t = 0\n",
    "while t < 11:\n",
    "  print(\"t=\", t)\n",
    "  t = t + 2\n",
    "\n",
    "print(\"The loop is finished\")"
   ]
  },
  {
   "cell_type": "markdown",
   "metadata": {},
   "source": [
    "## (More Challenging) Use a Loop to Calculate a Series"
   ]
  },
  {
   "cell_type": "markdown",
   "metadata": {},
   "source": [
    "In math, a geometric series is\n",
    "\n",
    "$$\\sum_{n=0}^{\\infty} ar^n=a + ar + ar^2 + ar^3 + ar^4 + \\cdots$$\n",
    "\n",
    "For the special case, of $-1<r<1$, the series converges to:\n",
    "\n",
    "$$\\sum_{n=0}^{\\infty} ar^n=\\frac{a}{1-r}\\quad \\mathrm{,\\ for\\ }-1<r<1$$\n",
    "\n",
    "Let's use a loop to compute the series. Then, for the special case, we will compare it to the analytic result. First, read the program below.\n",
    "\n",
    "```python\n",
    "a=1\n",
    "r=0.5\n",
    "\n",
    "n = 0\n",
    "sum = 0\n",
    "while n < 5:\n",
    "    sum = sum + a*r**n\n",
    "    n = n + 1\n",
    "    print(\"n=\", n, \", ar**n = \", a*r**n, \", sum=\", sum)\n",
    "\n",
    "print(\"The loop is finished.\")\n",
    "```"
   ]
  },
  {
   "cell_type": "markdown",
   "metadata": {},
   "source": [
    "1. What is the value of `a`? What is the value of `r`?\n",
    "- What variable is used to control how many terms in the series will be computed?\n",
    "- What variable is used for the sum of $ar^n$ from the first value of `n` to the current value of `n` in this iteration of the loop?"
   ]
  },
  {
   "cell_type": "code",
   "execution_count": null,
   "metadata": {},
   "outputs": [],
   "source": [
    "a=1\n",
    "r=0.5\n",
    "\n",
    "n = 0\n",
    "sum = 0\n",
    "while n < 5:\n",
    "    print(\"n=\", n, \", ar**n = \", a*r**n, \", sum=\", sum)\n",
    "    sum = sum + a*r**n\n",
    "    n = n + 1\n",
    "\n",
    "print(\"The loop is finished.\")"
   ]
  },
  {
   "cell_type": "markdown",
   "metadata": {},
   "source": [
    "## Exercise - Geometric Series"
   ]
  },
  {
   "cell_type": "markdown",
   "metadata": {},
   "source": [
    "For `a=1` and `r=0.5`, the geometric series is $\\sum_{n=0}^{\\infty} ar^n=\\frac{a}{1-r}=\\frac{1}{0.5}=2$. Thus, you expect your answer to be 2. But summing the first five terms ($n=0$ to $n=4$) only gives you 1.9375. Now, copy and paste your code and sum the first 10 terms (not the first 11 terms)."
   ]
  },
  {
   "cell_type": "code",
   "execution_count": null,
   "metadata": {
    "nbgrader": {
     "grade": true,
     "grade_id": "Loop4A_ans",
     "locked": false,
     "points": 1,
     "schema_version": 3,
     "solution": true,
     "task": false
    }
   },
   "outputs": [],
   "source": []
  },
  {
   "cell_type": "markdown",
   "metadata": {},
   "source": [
    "## Exercise - Basel Problem"
   ]
  },
  {
   "cell_type": "markdown",
   "metadata": {},
   "source": [
    "In 1741, Euler derived the following:\n",
    "    \n",
    "$$\\sum_{n=1}^{\\infty}\\dfrac{1}{n^2}=\\frac{1}{1^2} + \\frac{1}{2^2} +\\frac{1}{3^2} +\\cdots = \\frac{\\pi^2}{6}$$\n",
    "\n",
    "It's called the [Basel Problem](https://en.wikipedia.org/wiki/Basel_problem). Use a loop to compute the first one hundred terms of the series."
   ]
  },
  {
   "cell_type": "code",
   "execution_count": null,
   "metadata": {
    "nbgrader": {
     "grade": true,
     "grade_id": "Loop4B_ans",
     "locked": false,
     "points": 1,
     "schema_version": 3,
     "solution": true,
     "task": false
    }
   },
   "outputs": [],
   "source": []
  },
  {
   "cell_type": "markdown",
   "metadata": {},
   "source": [
    "Compare your result to what Euler proved analytically. Use $\\pi=3.14159265359$ to compute the analytic result."
   ]
  },
  {
   "cell_type": "code",
   "execution_count": null,
   "metadata": {
    "nbgrader": {
     "grade": true,
     "grade_id": "Loop4B2_ans",
     "locked": false,
     "points": 0,
     "schema_version": 3,
     "solution": true,
     "task": false
    }
   },
   "outputs": [],
   "source": []
  },
  {
   "cell_type": "markdown",
   "metadata": {},
   "source": [
    "## Exercise - An Independent Challenge"
   ]
  },
  {
   "cell_type": "markdown",
   "metadata": {},
   "source": [
    "Wikipedia has a [wonderful list of interesting series](https://en.wikipedia.org/wiki/List_of_mathematical_series). Choose a series, compute the result with a loop, and compare the result to the analytic solution."
   ]
  },
  {
   "cell_type": "code",
   "execution_count": null,
   "metadata": {},
   "outputs": [],
   "source": []
  }
 ],
 "metadata": {
  "celltoolbar": "Create Assignment",
  "kernelspec": {
   "display_name": "Python 3",
   "language": "python",
   "name": "python3"
  },
  "language_info": {
   "codemirror_mode": {
    "name": "ipython",
    "version": 3
   },
   "file_extension": ".py",
   "mimetype": "text/x-python",
   "name": "python",
   "nbconvert_exporter": "python",
   "pygments_lexer": "ipython3",
   "version": "3.8.3"
  }
 },
 "nbformat": 4,
 "nbformat_minor": 2
}
