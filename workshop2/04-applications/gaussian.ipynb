{
 "cells": [
  {
   "cell_type": "markdown",
   "metadata": {},
   "source": [
    "# Fitting a Gausssian\n",
    "\n",
    "## Problem\n",
    "\n",
    "Manufacturing processes often introduce variation in the product being manufactured. In this case students [in a high school class](https://www.statisticsteacher.org/2017/01/05/double-stuffed/) measured the mass of cream in double-stuffed oreo cookies. 79 double-stuffed oreo cookies were pulled apart, and the mass of the cream in the middle was measured. The number of cookies with a mass of cream in a range $m \\pm 0.065$ g of a certain mass $m$ was counted. Data for mass $m$ in grams and $N$ are given in the file `double-stuff-oreos.txt`. (This type of graph is called a histogram.)\n",
    "\n",
    "Data like this are often fit with a Gaussian function of the form\n",
    "\n",
    "$$f(x)=ae^{\\left(-\\frac{1}{2}\\left(\\frac{x-b}{c}\\right)^2\\right)}$$\n",
    "\n",
    "In this case, the independent variable `x` is the mass of the cream filling $m$ and the dependent variable `y` is the number of cookies $N$. So the function for this data is written\n",
    "\n",
    "$$N=ae^{\\left(-\\frac{1}{2}\\left(\\frac{m-b}{c}\\right)^2\\right)}$$\n",
    "\n",
    "\n",
    "## Exercise - Manual Fit\n",
    "\n",
    "The program below reads the data file and plots the number of oreo cookies as a function of mass. Manually adjust the fit parameters, $a$, $b$, and $c$ to find the constants that approximately fit the data.\n"
   ]
  },
  {
   "cell_type": "code",
   "execution_count": 1,
   "metadata": {},
   "outputs": [],
   "source": [
    "import numpy as np #used for arrays and numerical functions\n",
    "import pandas as pd #used for reading a data file\n",
    "import matplotlib.pyplot as plt #used for graphing\n",
    "from scipy.optimize import curve_fit #used for curve fitting"
   ]
  },
  {
   "cell_type": "code",
   "execution_count": 2,
   "metadata": {
    "nbgrader": {
     "grade": true,
     "grade_id": "Ex_C_ans",
     "locked": false,
     "points": 5,
     "schema_version": 3,
     "solution": true,
     "task": false
    }
   },
   "outputs": [
    {
     "data": {
      "image/png": "[encoded data removed]",
      "text/plain": [
       "<Figure size 432x288 with 1 Axes>"
      ]
     },
     "metadata": {
      "needs_background": "light"
     },
     "output_type": "display_data"
    }
   ],
   "source": [
    "# create a Python function that contains the mathematical model for our fit\n",
    "#x can be a single value or an array for the independent variable\n",
    "#  a, b, c are a comma separated list of fit parameters\n",
    "def model(x, a, b, c):\n",
    "    y =  a*np.exp(-(1/2)*((x-b)/c)**2)\n",
    "    return y\n",
    "\n",
    "# read the data file\n",
    "df = pd.read_csv('https://github.com/atitus/STLinATL/raw/master/workshop2/06-applications/double-stuff-oreos.txt', sep='\\t')\n",
    "df.head()\n",
    "\n",
    "# define arrays for the data\n",
    "xdata = df['mass (g)']\n",
    "ydata = df['N cookies']\n",
    "\n",
    "# define constants and create points for a linear function\n",
    "# a, b, c are initial guesses\n",
    "a = 1\n",
    "b = 1\n",
    "c = 1\n",
    "xfit = np.linspace(4.8,7.5,100) # dependent variable used for drawing a best-fit curve\n",
    "yfit = model(xfit, a, b, c) # dependent variable used for drawing a best-fit curve\n",
    "\n",
    "# plot data and the best-fit function on the same graph\n",
    "fig = plt.figure()\n",
    "plt.title(\"Mass of Creme in Double-Stuf Oreo Cookies\")\n",
    "plt.xlabel('mass (g)')\n",
    "plt.ylabel('N (cookies)')\n",
    "plt.grid(which='both', axis='both')\n",
    "plt.plot(xdata, ydata, 'bo')\n",
    "plt.plot(xfit, yfit, 'r-')\n",
    "plt.show()\n"
   ]
  },
  {
   "cell_type": "markdown",
   "metadata": {},
   "source": [
    "## Exercise - Interpreting the Function\n",
    "\n",
    "1. If you were to pick a random double-stuff oreo cookie out of a package, what is the most likely mass of creme in the cookie?\n",
    "1. In finding values of $a$, $b$, and $c$, you had to adjust them up and down. Describe how $a$ affects the curve.\n",
    "1. Describe how $b$ affects the curve.\n",
    "1. Describe how $c$ affects the curve.\n"
   ]
  },
  {
   "cell_type": "markdown",
   "metadata": {},
   "source": [
    "## Exercise - Automatic Fit\n",
    "\n",
    "Use the `curve_fit()` function to numerically find the best-fit parameters to the data. The program below does the curve fit. Now, add code to plot the best-fit curve and data on the same graph.\n",
    "\n",
    "How did the best-fit values of the parameters compare to what you found manually?"
   ]
  },
  {
   "cell_type": "code",
   "execution_count": 4,
   "metadata": {
    "nbgrader": {
     "grade": true,
     "grade_id": "Ex_A_ans",
     "locked": false,
     "points": 2,
     "schema_version": 3,
     "solution": true,
     "task": false
    }
   },
   "outputs": [
    {
     "name": "stdout",
     "output_type": "stream",
     "text": [
      "The best-fit function is a*np.exp(-(1/2)*((x-b)/c)**2) where a=20.6872, b=6.1488, c=0.1860.\n"
     ]
    }
   ],
   "source": [
    "# create a Python function that contains the mathematical model for our fit\n",
    "#x can be a single value or an array for the dependent variable\n",
    "def model(x, a, b, c):\n",
    "    y =  a*np.exp(-(1/2)*((x-b)/c)**2)\n",
    "    return y\n",
    "\n",
    "# read the data file\n",
    "df = pd.read_csv('https://github.com/atitus/STLinATL/raw/master/workshop2/06-applications/double-stuff-oreos.txt', sep='\\t')\n",
    "df.head()\n",
    "\n",
    "# define arrays for the data\n",
    "xdata = df['mass (g)']\n",
    "ydata = df['N cookies']\n",
    "\n",
    "# find best-fit parameters\n",
    "initial_guess = [1, 1, 1] #initial guess of a, b, c\n",
    "parameters, stats = curve_fit(model, xdata, ydata, p0=initial_guess)\n",
    "a, b, c = parameters\n",
    "print(\"The best-fit function is a*np.exp(-(1/2)*((x-b)/c)**2) where a={:.4f}, b={:.4f}, c={:.4f}.\".format(a, b, c))\n",
    "\n",
    "# plot the data and best-fit curve"
   ]
  },
  {
   "cell_type": "code",
   "execution_count": null,
   "metadata": {},
   "outputs": [],
   "source": []
  }
 ],
 "metadata": {
  "celltoolbar": "Create Assignment",
  "kernelspec": {
   "display_name": "Python 3",
   "language": "python",
   "name": "python3"
  },
  "language_info": {
   "codemirror_mode": {
    "name": "ipython",
    "version": 3
   },
   "file_extension": ".py",
   "mimetype": "text/x-python",
   "name": "python",
   "nbconvert_exporter": "python",
   "pygments_lexer": "ipython3",
   "version": "3.7.3"
  }
 },
 "nbformat": 4,
 "nbformat_minor": 4
}
